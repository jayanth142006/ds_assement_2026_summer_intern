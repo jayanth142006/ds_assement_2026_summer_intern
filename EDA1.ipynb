{
 "cells": [
  {
   "cell_type": "code",
   "execution_count": 39,
   "id": "eef8e9fc-1935-49b0-8531-aa53a6169fd4",
   "metadata": {},
   "outputs": [],
   "source": [
    "# Analysing the small part of JSON data and converting into tabular format"
   ]
  },
  {
   "cell_type": "code",
   "execution_count": 31,
   "id": "37f5a7cc-444e-4c90-bcea-8cea1a38436d",
   "metadata": {},
   "outputs": [
    {
     "name": "stdout",
     "output_type": "stream",
     "text": [
      "                                        BODY_CLEANED\n",
      "0  {\\n  \"meta\": {\\n    \"messageType\": \"VehicleDat...\n",
      "1  {\\n  \"meta\": {\\n    \"messageType\": \"VehicleDat...\n",
      "2  {\\n  \"meta\": {\\n    \"messageType\": \"VehicleDat...\n",
      "3  {\\n  \"meta\": {\\n    \"messageType\": \"VehicleDat...\n",
      "4  {\\n  \"meta\": {\\n    \"messageType\": \"VehicleDat...\n",
      "5  {\\n  \"meta\": {\\n    \"messageType\": \"VehicleDat...\n",
      "6  {\\n  \"meta\": {\\n    \"messageType\": \"VehicleDat...\n",
      "7  {\\n  \"meta\": {\\n    \"messageType\": \"VehicleDat...\n",
      "8  {\\n  \"meta\": {\\n    \"messageType\": \"VehicleDat...\n",
      "9  {\\n  \"meta\": {\\n    \"messageType\": \"VehicleDat...\n"
     ]
    }
   ],
   "source": [
    "import pandas as pd\n",
    "import json\n",
    "df = pd.read_csv('Test_Case_dataCleaning.csv', nrows=10)\n",
    "print(df)"
   ]
  },
  {
   "cell_type": "code",
   "execution_count": 21,
   "id": "fcb749f3-c194-47f8-bc74-110efa592cf3",
   "metadata": {},
   "outputs": [
    {
     "name": "stdout",
     "output_type": "stream",
     "text": [
      "{\n",
      "  \"meta\": {\n",
      "    \"messageType\": \"VehicleData\",\n",
      "    \"pollerFetchTime\": 1751725939315,\n",
      "    \"version\": \"v2\"\n",
      "  },\n",
      "  \"partitionKey\": \"df979dc9-5cc6-470f-a105-d3108fd03c19\",\n",
      "  \"timestamp\": \"20250705143219.297\",\n",
      "  \"transactionId\": \"df979dc9-5cc6-470f-a105-d3108fd03c19\",\n",
      "  \"vinList\": [\n",
      "    {\n",
      "      \"dischargeWarning\": {\n",
      "        \"hazardStatus\": 0,\n",
      "        \"tailLampStatus\": 0\n",
      "      },\n",
      "      \"evStatusData\": [\n",
      "        {\n",
      "          \"attribute\": \"ign3Status\",\n",
      "          \"dataType\": 1,\n",
      "          \"value\": \"0\"\n",
      "        }\n",
      "      ],\n",
      "      \"headLampStatus\": {\n",
      "        \"headLamp\": 0,\n",
      "        \"leftHighLamp\": 0,\n",
      "        \"leftLowLamp\": 0,\n",
      "        \"rightHighLamp\": 0,\n",
      "        \"rightLowLamp\": 0\n",
      "      },\n",
      "      \"locationTimestamp\": {\n",
      "        \"offSet\": -7,\n",
      "        \"time\": \"20250705143213.000\"\n",
      "      },\n",
      "      \"statusData\": [\n",
      "        {\n",
      "          \"attribute\": \"odometer\",\n",
      "          \"dataType\": 2,\n",
      "          \"unit\": 1,\n",
      "          \"value\": \"28082.6\"\n",
      "        },\n",
      "        {\n",
      "          \"attribute\": \"gasLevel\",\n",
      "          \"dataType\": 1,\n",
      "          \"unit\": 6,\n",
      "          \"value\": \"24\"\n",
      "        },\n",
      "        {\n",
      "          \"attribute\": \"parkingPosition\",\n",
      "          \"dataType\": 1,\n",
      "          \"value\": \"1\"\n",
      "        },\n",
      "        {\n",
      "          \"attribute\": \"engineOilStatus\",\n",
      "          \"dataType\": 1,\n",
      "          \"value\": \"0\"\n",
      "        },\n",
      "        {\n",
      "          \"attribute\": \"airTemp\",\n",
      "          \"dataType\": 1,\n",
      "          \"unit\": 4,\n",
      "          \"value\": \"0\"\n",
      "        },\n",
      "        {\n",
      "          \"attribute\": \"breakOilStatus\",\n",
      "          \"dataType\": 1,\n",
      "          \"value\": \"0\"\n",
      "        },\n",
      "        {\n",
      "          \"attribute\": \"ignStatus\",\n",
      "          \"dataType\": 1,\n",
      "          \"value\": \"1\"\n",
      "        },\n",
      "        {\n",
      "          \"attribute\": \"accModeStatus\",\n",
      "          \"dataType\": 1,\n",
      "          \"value\": \"1\"\n",
      "        },\n",
      "        {\n",
      "          \"attribute\": \"batStatus\",\n",
      "          \"dataType\": 1,\n",
      "          \"unit\": 6,\n",
      "          \"value\": \"92\"\n",
      "        },\n",
      "        {\n",
      "          \"attribute\": \"washerFluidStatus\",\n",
      "          \"dataType\": 1,\n",
      "          \"value\": \"1\"\n",
      "        },\n",
      "        {\n",
      "          \"attribute\": \"traveldirection\",\n",
      "          \"dataType\": 2,\n",
      "          \"unit\": 17,\n",
      "          \"value\": \"268\"\n",
      "        },\n",
      "        {\n",
      "          \"attribute\": \"speed\",\n",
      "          \"dataType\": 1,\n",
      "          \"unit\": 15,\n",
      "          \"value\": \"0\"\n",
      "        }\n",
      "      ],\n",
      "      \"statusTimestamp\": {\n",
      "        \"offSet\": -7,\n",
      "        \"time\": \"20250705143210.000\"\n",
      "      },\n",
      "      \"stopLampStatus\": {\n",
      "        \"leftLamp\": 0,\n",
      "        \"rightLamp\": 0,\n",
      "        \"stopLamp\": 0\n",
      "      },\n",
      "      \"tid\": \"d79a57d4-59ac-11f0-9e9b-2b40fc6391d9\",\n",
      "      \"tirePressureWarning\": {\n",
      "        \"frontLeft\": 0,\n",
      "        \"frontRight\": 0,\n",
      "        \"overall\": 0,\n",
      "        \"rearLeft\": 0,\n",
      "        \"rearRight\": 0\n",
      "      },\n",
      "      \"turnSignalStatus\": {\n",
      "        \"leftFrontLamp\": 0,\n",
      "        \"leftRearLamp\": 0,\n",
      "        \"rightFrontLamp\": 0,\n",
      "        \"rightRearLamp\": 0,\n",
      "        \"turnSignalLamp\": 0\n",
      "      },\n",
      "      \"vin\": \"MASKEDVIN003\"\n",
      "    }\n",
      "  ]\n",
      "}\n"
     ]
    }
   ],
   "source": [
    "import pandas as pd\n",
    "df = pd.read_csv('Test_Case_dataCleaning.csv', nrows=1)\n",
    "raw_json = df.loc[0, 'BODY_CLEANED']\n",
    "print(raw_json.encode('utf-8').decode('unicode_escape'))\n"
   ]
  },
  {
   "cell_type": "code",
   "execution_count": 25,
   "id": "f0efd7e2-c6c1-41f7-816f-7893ea794e92",
   "metadata": {},
   "outputs": [
    {
     "name": "stdout",
     "output_type": "stream",
     "text": [
      "             VIN     statusTimestamp          attribute    value  \\\n",
      "0   MASKEDVIN003  20250705143210.000           odometer  28082.6   \n",
      "1   MASKEDVIN003  20250705143210.000           gasLevel       24   \n",
      "2   MASKEDVIN003  20250705143210.000    parkingPosition        1   \n",
      "3   MASKEDVIN003  20250705143210.000    engineOilStatus        0   \n",
      "4   MASKEDVIN003  20250705143210.000            airTemp        0   \n",
      "5   MASKEDVIN003  20250705143210.000     breakOilStatus        0   \n",
      "6   MASKEDVIN003  20250705143210.000          ignStatus        1   \n",
      "7   MASKEDVIN003  20250705143210.000      accModeStatus        1   \n",
      "8   MASKEDVIN003  20250705143210.000          batStatus       92   \n",
      "9   MASKEDVIN003  20250705143210.000  washerFluidStatus        1   \n",
      "10  MASKEDVIN003  20250705143210.000    traveldirection      268   \n",
      "11  MASKEDVIN003  20250705143210.000              speed        0   \n",
      "\n",
      "    pollerFetchTime  \n",
      "0     1751725939315  \n",
      "1     1751725939315  \n",
      "2     1751725939315  \n",
      "3     1751725939315  \n",
      "4     1751725939315  \n",
      "5     1751725939315  \n",
      "6     1751725939315  \n",
      "7     1751725939315  \n",
      "8     1751725939315  \n",
      "9     1751725939315  \n",
      "10    1751725939315  \n",
      "11    1751725939315  \n"
     ]
    }
   ],
   "source": [
    "import pandas as pd\n",
    "import json\n",
    "\n",
    "# Extract the JSON string from the first row\n",
    "raw_json = df.loc[0, 'BODY_CLEANED']\n",
    "\n",
    "# Clean the JSON string (if needed)\n",
    "cleaned_json = raw_json.replace('\\\\n', '').replace('\\\\\"', '\"').replace('\\\\', '')\n",
    "\n",
    "# Parse the JSON string\n",
    "parsed_json = json.loads(cleaned_json)\n",
    "\n",
    "# Extract meta information\n",
    "poller_fetch_time = parsed_json[\"meta\"].get(\"pollerFetchTime\", None)\n",
    "\n",
    "# Get the list of vehicles (usually length 1)\n",
    "vin_list = parsed_json.get(\"vinList\", [])\n",
    "\n",
    "# Flatten the structure\n",
    "parsed_data = []\n",
    "\n",
    "for vin_data in vin_list:\n",
    "    vin = vin_data.get(\"vin\", None)\n",
    "    status_timestamp = vin_data.get(\"statusTimestamp\", {}).get(\"time\", None)\n",
    "    \n",
    "    for item in vin_data.get(\"statusData\", []):\n",
    "        parsed_data.append({\n",
    "            \"VIN\": vin,\n",
    "            \"statusTimestamp\": status_timestamp,\n",
    "            \"attribute\": item.get(\"attribute\", None),\n",
    "            \"value\": item.get(\"value\", None),\n",
    "            \"pollerFetchTime\": poller_fetch_time\n",
    "        })\n",
    "\n",
    "# Convert to DataFrame\n",
    "flattened_df = pd.DataFrame(parsed_data)\n",
    "\n",
    "# Display the result\n",
    "print(flattened_df)\n"
   ]
  },
  {
   "cell_type": "code",
   "execution_count": 29,
   "id": "85426a34-8acd-4ec3-af92-4c878b93f483",
   "metadata": {},
   "outputs": [
    {
     "name": "stdout",
     "output_type": "stream",
     "text": [
      "         VIN    statusTimestamp odometer gasLevel ignStatus speed  pollerFetchTime\n",
      "MASKEDVIN003 20250705143210.000  28082.6       24         1     0    1751725939315\n"
     ]
    }
   ],
   "source": [
    "import pandas as pd\n",
    "import json\n",
    "\n",
    "# Step 1: Load and clean the first row of JSON\n",
    "raw_json = df.loc[0, 'BODY_CLEANED']\n",
    "cleaned_json = raw_json.replace('\\\\n', '').replace('\\\\\"', '\"').replace('\\\\', '')\n",
    "parsed_json = json.loads(cleaned_json)\n",
    "\n",
    "# Step 2: Extract required info\n",
    "poller_fetch_time = parsed_json[\"meta\"].get(\"pollerFetchTime\", None)\n",
    "vin_list = parsed_json.get(\"vinList\", [])\n",
    "\n",
    "# Step 3: Define the attributes you want to keep\n",
    "wanted_attributes = {\"odometer\", \"gasLevel\", \"ignStatus\", \"speed\"}\n",
    "\n",
    "# Step 4: Build the final row\n",
    "records = []\n",
    "for vin_data in vin_list:\n",
    "    flat_row = {\n",
    "        \"VIN\": vin_data.get(\"vin\", None),\n",
    "        \"statusTimestamp\": vin_data.get(\"statusTimestamp\", {}).get(\"time\", None),\n",
    "        \"pollerFetchTime\": poller_fetch_time\n",
    "    }\n",
    "    \n",
    "    # Pull only the desired attributes\n",
    "    for item in vin_data.get(\"statusData\", []):\n",
    "        attr = item.get(\"attribute\", None)\n",
    "        if attr in wanted_attributes:\n",
    "            flat_row[attr] = item.get(\"value\", None)\n",
    "    \n",
    "    records.append(flat_row)\n",
    "\n",
    "# Step 5: Convert to DataFrame\n",
    "final_df = pd.DataFrame(records)\n",
    "\n",
    "# Reorder columns (optional)\n",
    "final_df = final_df[[\"VIN\", \"statusTimestamp\", \"odometer\", \"gasLevel\", \"ignStatus\", \"speed\", \"pollerFetchTime\"]]\n",
    "\n",
    "# Display result\n",
    "print(final_df.to_string(index=False))\n"
   ]
  },
  {
   "cell_type": "code",
   "execution_count": 35,
   "id": "0cd2c7fa-76ea-4e9e-bf15-74fc82d56ee3",
   "metadata": {},
   "outputs": [
    {
     "name": "stdout",
     "output_type": "stream",
     "text": [
      "         VIN    statusTimestamp  pollerFetchTime odometer gasLevel ignStatus speed\n",
      "MASKEDVIN003 20250705143210.000    1751725939315  28082.6       24         1     0\n",
      "MASKEDVIN003 20250708170037.000    1751994040672  28605.6      100         1    28\n",
      "MASKEDVIN003 20250706181414.000    1751825658365  28443.6       37         0     0\n",
      "MASKEDVIN003 20250708204314.000    1752007396151  28902.2       72         1    55\n",
      "MASKEDVIN003 20250705202326.000    1751747010652  28275.5       63         1     0\n",
      "MASKEDVIN003 20250709183810.000    1752086292389  29296.9       23         0     0\n",
      "MASKEDVIN003 20250709015822.000    1752026304311  29212.4       33         1    34\n",
      "MASKEDVIN003 20250709182637.000    1752085600580  29296.1       23         1     6\n",
      "MASKEDVIN003 20250707011609.000    1751850974094  28516.7       25         1     2\n",
      "MASKEDVIN003 20250707022311.000    1751854993858  28533.7       22         1     3\n"
     ]
    }
   ],
   "source": [
    "import pandas as pd\n",
    "import json\n",
    "\n",
    "# Store processed rows\n",
    "flattened_data = []\n",
    "\n",
    "# Iterate through all rows in df (already limited to 10 rows)\n",
    "for index, row in df.iterrows():\n",
    "    try:\n",
    "        raw_json = row['BODY_CLEANED'].strip()\n",
    "        clean_json = raw_json.replace('\\\\n', '').replace('\\\\', '').replace('\\\"', '\"')\n",
    "        data = json.loads(clean_json)\n",
    "\n",
    "        pollerFetchTime = data.get(\"meta\", {}).get(\"pollerFetchTime\", None)\n",
    "        vinList = data.get(\"vinList\", [])\n",
    "\n",
    "        for vin_entry in vinList:\n",
    "            vin = vin_entry.get(\"vin\", None)\n",
    "            statusTimestamp = vin_entry.get(\"statusTimestamp\", {}).get(\"time\", None)\n",
    "            statusData = vin_entry.get(\"statusData\", [])\n",
    "\n",
    "            # Initialize row\n",
    "            row_dict = {\n",
    "                \"VIN\": vin,\n",
    "                \"statusTimestamp\": statusTimestamp,\n",
    "                \"pollerFetchTime\": pollerFetchTime,\n",
    "                \"odometer\": None,\n",
    "                \"gasLevel\": None,\n",
    "                \"ignStatus\": None,\n",
    "                \"speed\": None\n",
    "            }\n",
    "\n",
    "            for item in statusData:\n",
    "                attr = item.get(\"attribute\")\n",
    "                value = item.get(\"value\")\n",
    "                if attr in row_dict:\n",
    "                    row_dict[attr] = value\n",
    "\n",
    "            flattened_data.append(row_dict)\n",
    "\n",
    "    except Exception as e:\n",
    "        print(f\"Error in row {index}: {e}\")\n",
    "\n",
    "# Create the final DataFrame\n",
    "final_df = pd.DataFrame(flattened_data)\n",
    "\n",
    "# Show result without slashes and clean format\n",
    "print(final_df.to_string(index=False))\n"
   ]
  },
  {
   "cell_type": "code",
   "execution_count": 41,
   "id": "6b973d96-2cc2-4eee-b5b2-31d03635061c",
   "metadata": {},
   "outputs": [],
   "source": [
    "## Making the full dataset into tabular format"
   ]
  },
  {
   "cell_type": "code",
   "execution_count": 257,
   "id": "7ae24104-8657-4110-8dea-4fb87b8a2f1f",
   "metadata": {},
   "outputs": [
    {
     "name": "stdout",
     "output_type": "stream",
     "text": [
      "                                        BODY_CLEANED\n",
      "0  {\\n  \"meta\": {\\n    \"messageType\": \"VehicleDat...\n",
      "1  {\\n  \"meta\": {\\n    \"messageType\": \"VehicleDat...\n",
      "2  {\\n  \"meta\": {\\n    \"messageType\": \"VehicleDat...\n",
      "3  {\\n  \"meta\": {\\n    \"messageType\": \"VehicleDat...\n",
      "4  {\\n  \"meta\": {\\n    \"messageType\": \"VehicleDat...\n",
      "5  {\\n  \"meta\": {\\n    \"messageType\": \"VehicleDat...\n",
      "6  {\\n  \"meta\": {\\n    \"messageType\": \"VehicleDat...\n",
      "7  {\\n  \"meta\": {\\n    \"messageType\": \"VehicleDat...\n",
      "8  {\\n  \"meta\": {\\n    \"messageType\": \"VehicleDat...\n",
      "9  {\\n  \"meta\": {\\n    \"messageType\": \"VehicleDat...\n"
     ]
    }
   ],
   "source": [
    "import pandas as pd\n",
    "import json\n",
    "df = pd.read_csv('Test_Case_dataCleaning.csv')\n",
    "print(df.head(10))"
   ]
  },
  {
   "cell_type": "code",
   "execution_count": 45,
   "id": "df2f6d42-eee5-4dd0-b764-bbedac1e5a14",
   "metadata": {},
   "outputs": [
    {
     "name": "stderr",
     "output_type": "stream",
     "text": [
      "IOPub data rate exceeded.\n",
      "The Jupyter server will temporarily stop sending output\n",
      "to the client in order to avoid crashing it.\n",
      "To change this limit, set the config variable\n",
      "`--ServerApp.iopub_data_rate_limit`.\n",
      "\n",
      "Current values:\n",
      "ServerApp.iopub_data_rate_limit=1000000.0 (bytes/sec)\n",
      "ServerApp.rate_limit_window=3.0 (secs)\n",
      "\n"
     ]
    }
   ],
   "source": [
    "import pandas as pd\n",
    "import json\n",
    "\n",
    "# Store processed rows\n",
    "flattened_data = []\n",
    "\n",
    "# Iterate through all rows in df (already limited to 10 rows)\n",
    "for index, row in df.iterrows():\n",
    "    try:\n",
    "        raw_json = row['BODY_CLEANED'].strip()\n",
    "        clean_json = raw_json.replace('\\\\n', '').replace('\\\\', '').replace('\\\"', '\"')\n",
    "        data = json.loads(clean_json)\n",
    "\n",
    "        pollerFetchTime = data.get(\"meta\", {}).get(\"pollerFetchTime\", None)\n",
    "        vinList = data.get(\"vinList\", [])\n",
    "\n",
    "        for vin_entry in vinList:\n",
    "            vin = vin_entry.get(\"vin\", None)\n",
    "            statusTimestamp = vin_entry.get(\"statusTimestamp\", {}).get(\"time\", None)\n",
    "            statusData = vin_entry.get(\"statusData\", [])\n",
    "\n",
    "            # Initialize row\n",
    "            row_dict = {\n",
    "                \"VIN\": vin,\n",
    "                \"statusTimestamp\": statusTimestamp,\n",
    "                \"pollerFetchTime\": pollerFetchTime,\n",
    "                \"odometer\": None,\n",
    "                \"gasLevel\": None,\n",
    "                \"ignStatus\": None,\n",
    "                \"speed\": None\n",
    "            }\n",
    "\n",
    "            for item in statusData:\n",
    "                attr = item.get(\"attribute\")\n",
    "                value = item.get(\"value\")\n",
    "                if attr in row_dict:\n",
    "                    row_dict[attr] = value\n",
    "\n",
    "            flattened_data.append(row_dict)\n",
    "\n",
    "    except Exception as e:\n",
    "        print(f\"Error in row {index}: {e}\")\n",
    "\n",
    "# Create the final DataFrame\n",
    "final_df = pd.DataFrame(flattened_data)\n",
    "\n",
    "# Show result without slashes and clean format\n",
    "print(final_df.to_string(index=False))"
   ]
  },
  {
   "cell_type": "code",
   "execution_count": 47,
   "id": "ca2cc525-23fe-4412-bd40-1bbd83b19335",
   "metadata": {},
   "outputs": [],
   "source": [
    "import pandas as pd\n",
    "import json\n",
    "\n",
    "def clean_and_parse_json(row):\n",
    "    try:\n",
    "        clean_json = row.replace('\\\\n', '').replace('\\\\', '')\n",
    "        return json.loads(clean_json)\n",
    "    except:\n",
    "        return None\n",
    "\n",
    "# Initialize an empty list to store results\n",
    "final_results = []\n",
    "\n",
    "chunksize = 1000\n",
    "for chunk in pd.read_csv('Test_Case_dataCleaning.csv', chunksize=chunksize):\n",
    "    chunk['parsed'] = chunk['BODY_CLEANED'].apply(clean_and_parse_json)\n",
    "    chunk = chunk.dropna(subset=['parsed'])\n",
    "\n",
    "    extracted_rows = []\n",
    "    for item in chunk['parsed']:\n",
    "        for vin_data in item.get('vinList', []):\n",
    "            extracted_rows.append({\n",
    "                'VIN': vin_data.get('vin'),\n",
    "                'statusTimestamp': vin_data.get('statusTimestamp', {}).get('time'),\n",
    "                'pollerFetchTime': item.get('meta', {}).get('pollerFetchTime'),\n",
    "                'statusData': vin_data.get('statusData', [])\n",
    "            })\n",
    "\n",
    "    # Convert to DataFrame\n",
    "    vin_df = pd.DataFrame(extracted_rows)\n",
    "\n",
    "    if vin_df.empty:\n",
    "        continue\n",
    "\n",
    "    # Explode and normalize statusData\n",
    "    status_df = pd.json_normalize(vin_df.explode('statusData')['statusData'])\n",
    "\n",
    "    # Merge metadata with flattened data\n",
    "    merged_df = vin_df.drop(columns='statusData').join(status_df)\n",
    "\n",
    "    # Filter only desired attributes\n",
    "    filtered = merged_df[merged_df['attribute'].isin(['odometer', 'gasLevel', 'ignStatus', 'speed'])]\n",
    "\n",
    "    # Pivot to make attributes columns\n",
    "    pivoted = filtered.pivot_table(index=['VIN', 'statusTimestamp', 'pollerFetchTime'],\n",
    "                                   columns='attribute',\n",
    "                                   values='value',\n",
    "                                   aggfunc='first').reset_index()\n",
    "\n",
    "    final_results.append(pivoted)\n",
    "\n",
    "# Combine all results\n",
    "final_df = pd.concat(final_results, ignore_index=True)\n",
    "\n",
    "# Optional: Reorder columns\n",
    "final_df = final_df[['VIN', 'statusTimestamp', 'odometer', 'gasLevel', 'ignStatus', 'speed', 'pollerFetchTime']]\n",
    "\n",
    "# Save to CSV if needed\n",
    "final_df.to_csv('flattened_output.csv', index=False)\n"
   ]
  },
  {
   "cell_type": "code",
   "execution_count": 49,
   "id": "e89b360e-167a-4b7b-bdb2-db03fe509438",
   "metadata": {},
   "outputs": [
    {
     "data": {
      "text/html": [
       "<div>\n",
       "<style scoped>\n",
       "    .dataframe tbody tr th:only-of-type {\n",
       "        vertical-align: middle;\n",
       "    }\n",
       "\n",
       "    .dataframe tbody tr th {\n",
       "        vertical-align: top;\n",
       "    }\n",
       "\n",
       "    .dataframe thead th {\n",
       "        text-align: right;\n",
       "    }\n",
       "</style>\n",
       "<table border=\"1\" class=\"dataframe\">\n",
       "  <thead>\n",
       "    <tr style=\"text-align: right;\">\n",
       "      <th></th>\n",
       "      <th>VIN</th>\n",
       "      <th>statusTimestamp</th>\n",
       "      <th>odometer</th>\n",
       "      <th>gasLevel</th>\n",
       "      <th>ignStatus</th>\n",
       "      <th>speed</th>\n",
       "      <th>pollerFetchTime</th>\n",
       "    </tr>\n",
       "  </thead>\n",
       "  <tbody>\n",
       "    <tr>\n",
       "      <th>0</th>\n",
       "      <td>MASKEDVIN003</td>\n",
       "      <td>2.025070e+13</td>\n",
       "      <td>NaN</td>\n",
       "      <td>NaN</td>\n",
       "      <td>NaN</td>\n",
       "      <td>0.0</td>\n",
       "      <td>1751381150911</td>\n",
       "    </tr>\n",
       "    <tr>\n",
       "      <th>1</th>\n",
       "      <td>MASKEDVIN003</td>\n",
       "      <td>2.025070e+13</td>\n",
       "      <td>28431.2</td>\n",
       "      <td>NaN</td>\n",
       "      <td>NaN</td>\n",
       "      <td>NaN</td>\n",
       "      <td>1751381630994</td>\n",
       "    </tr>\n",
       "    <tr>\n",
       "      <th>2</th>\n",
       "      <td>MASKEDVIN003</td>\n",
       "      <td>2.025070e+13</td>\n",
       "      <td>NaN</td>\n",
       "      <td>33.0</td>\n",
       "      <td>NaN</td>\n",
       "      <td>NaN</td>\n",
       "      <td>1751382014325</td>\n",
       "    </tr>\n",
       "    <tr>\n",
       "      <th>3</th>\n",
       "      <td>MASKEDVIN003</td>\n",
       "      <td>2.025070e+13</td>\n",
       "      <td>NaN</td>\n",
       "      <td>99.0</td>\n",
       "      <td>NaN</td>\n",
       "      <td>NaN</td>\n",
       "      <td>1751382247200</td>\n",
       "    </tr>\n",
       "    <tr>\n",
       "      <th>4</th>\n",
       "      <td>MASKEDVIN003</td>\n",
       "      <td>2.025070e+13</td>\n",
       "      <td>NaN</td>\n",
       "      <td>NaN</td>\n",
       "      <td>NaN</td>\n",
       "      <td>68.0</td>\n",
       "      <td>1751382784292</td>\n",
       "    </tr>\n",
       "  </tbody>\n",
       "</table>\n",
       "</div>"
      ],
      "text/plain": [
       "            VIN  statusTimestamp  odometer  gasLevel  ignStatus  speed  \\\n",
       "0  MASKEDVIN003     2.025070e+13       NaN       NaN        NaN    0.0   \n",
       "1  MASKEDVIN003     2.025070e+13   28431.2       NaN        NaN    NaN   \n",
       "2  MASKEDVIN003     2.025070e+13       NaN      33.0        NaN    NaN   \n",
       "3  MASKEDVIN003     2.025070e+13       NaN      99.0        NaN    NaN   \n",
       "4  MASKEDVIN003     2.025070e+13       NaN       NaN        NaN   68.0   \n",
       "\n",
       "   pollerFetchTime  \n",
       "0    1751381150911  \n",
       "1    1751381630994  \n",
       "2    1751382014325  \n",
       "3    1751382247200  \n",
       "4    1751382784292  "
      ]
     },
     "execution_count": 49,
     "metadata": {},
     "output_type": "execute_result"
    }
   ],
   "source": [
    "import pandas as pd\n",
    "\n",
    "# Read the saved file\n",
    "df = pd.read_csv('flattened_output.csv')\n",
    "\n",
    "# Display the first few rows\n",
    "df.head()\n"
   ]
  },
  {
   "cell_type": "code",
   "execution_count": 51,
   "id": "f6aebf1f-761d-4de4-b9d8-05a6818a56b7",
   "metadata": {},
   "outputs": [
    {
     "data": {
      "text/plain": [
       "261341"
      ]
     },
     "execution_count": 51,
     "metadata": {},
     "output_type": "execute_result"
    }
   ],
   "source": [
    "len(df)"
   ]
  },
  {
   "cell_type": "code",
   "execution_count": 55,
   "id": "c8e17caf-2376-4b4b-8491-249c4256fc7a",
   "metadata": {},
   "outputs": [],
   "source": [
    "df = pd.read_csv('Test_Case_dataCleaning.csv')"
   ]
  },
  {
   "cell_type": "code",
   "execution_count": 259,
   "id": "a71e73be-f594-4ab1-adae-a372c02fdff7",
   "metadata": {},
   "outputs": [
    {
     "name": "stdout",
     "output_type": "stream",
     "text": [
      "            VIN statusTimestamp pollerFetchTime odometer gasLevel ignStatus  \\\n",
      "0  MASKEDVIN003  20250705143210   1751725939315  28082.6       24         1   \n",
      "1  MASKEDVIN003  20250708170037   1751994040672  28605.6      100         1   \n",
      "2  MASKEDVIN003  20250706181414   1751825658365  28443.6       37         0   \n",
      "3  MASKEDVIN003  20250708204314   1752007396151  28902.2       72         1   \n",
      "4  MASKEDVIN003  20250705202326   1751747010652  28275.5       63         1   \n",
      "\n",
      "  speed  \n",
      "0     0  \n",
      "1    28  \n",
      "2     0  \n",
      "3    55  \n",
      "4     0  \n"
     ]
    }
   ],
   "source": [
    "import pandas as pd\n",
    "import json\n",
    "\n",
    "# Target attributes to extract\n",
    "target_attributes = ['odometer', 'gasLevel', 'ignStatus', 'speed']\n",
    "\n",
    "# Step 3: Create a list to collect processed rows\n",
    "processed_data = []\n",
    "\n",
    "# Step 4: Iterate through each row and parse the JSON\n",
    "for raw_row in df['BODY_CLEANED']:\n",
    "    try:\n",
    "        # Clean and parse JSON string\n",
    "        cleaned_row = raw_row.replace('\\\\n', '').replace('\\\\', '')\n",
    "        data = json.loads(cleaned_row)\n",
    "\n",
    "        for vin_info in data.get('vinList', []):  # Process all VINs, not just the first\n",
    "            row_data = {\n",
    "                'VIN': vin_info.get('vin'),\n",
    "                'statusTimestamp': vin_info.get('statusTimestamp', {}).get('time'),\n",
    "                'pollerFetchTime': data.get('meta', {}).get('pollerFetchTime')\n",
    "            }\n",
    "\n",
    "            # Extract only target attributes\n",
    "            for attr in vin_info.get('statusData', []):\n",
    "                key = attr.get('attribute')\n",
    "                if key in target_attributes:\n",
    "                    row_data[key] = attr.get('value')\n",
    "\n",
    "            processed_data.append(row_data)\n",
    "\n",
    "    except (json.JSONDecodeError, IndexError, TypeError) as e:\n",
    "        print(f\"Skipping row due to error: {e}\")\n",
    "        continue\n",
    "\n",
    "# Step 5: Convert to DataFrame\n",
    "flattened_df = pd.DataFrame(processed_data)\n",
    "\n",
    "# Step 6: Prevent scientific notation and keep timestamps as string\n",
    "flattened_df['statusTimestamp'] = pd.to_numeric(flattened_df['statusTimestamp'], errors='coerce').astype('Int64').astype(str)\n",
    "flattened_df['pollerFetchTime'] = pd.to_numeric(flattened_df['pollerFetchTime'], errors='coerce').astype('Int64').astype(str)\n",
    "\n",
    "# Step 7: Save to CSV\n",
    "flattened_df.to_csv('flattened_vehicle_data.csv', index=False)\n",
    "\n",
    "# Display the result\n",
    "print(flattened_df.head())\n"
   ]
  },
  {
   "cell_type": "code",
   "execution_count": 59,
   "id": "424b4526-6f40-4ae2-9d1c-58cfc5b8c2f1",
   "metadata": {},
   "outputs": [
    {
     "data": {
      "text/plain": [
       "781942"
      ]
     },
     "execution_count": 59,
     "metadata": {},
     "output_type": "execute_result"
    }
   ],
   "source": [
    "len(df)"
   ]
  },
  {
   "cell_type": "code",
   "execution_count": 61,
   "id": "8901e7c5-b4ed-4429-83ee-dca484516535",
   "metadata": {},
   "outputs": [],
   "source": [
    "# Method 1: Manually parses and cleans each row with nested loops — slow and not scalable.\n",
    "\n",
    "# Method 2: Uses chunking and pivoting with explode — misses data and overcomplicates processing.\n",
    "\n",
    "# Method 3: Simply parses rows and extracts needed fields — accurate, complete, and most efficient."
   ]
  },
  {
   "cell_type": "code",
   "execution_count": 261,
   "id": "e2000369-f481-482d-a062-1294bcb9dc08",
   "metadata": {},
   "outputs": [
    {
     "data": {
      "text/html": [
       "<div>\n",
       "<style scoped>\n",
       "    .dataframe tbody tr th:only-of-type {\n",
       "        vertical-align: middle;\n",
       "    }\n",
       "\n",
       "    .dataframe tbody tr th {\n",
       "        vertical-align: top;\n",
       "    }\n",
       "\n",
       "    .dataframe thead th {\n",
       "        text-align: right;\n",
       "    }\n",
       "</style>\n",
       "<table border=\"1\" class=\"dataframe\">\n",
       "  <thead>\n",
       "    <tr style=\"text-align: right;\">\n",
       "      <th></th>\n",
       "      <th>VIN</th>\n",
       "      <th>statusTimestamp</th>\n",
       "      <th>pollerFetchTime</th>\n",
       "      <th>odometer</th>\n",
       "      <th>gasLevel</th>\n",
       "      <th>ignStatus</th>\n",
       "      <th>speed</th>\n",
       "    </tr>\n",
       "  </thead>\n",
       "  <tbody>\n",
       "    <tr>\n",
       "      <th>0</th>\n",
       "      <td>MASKEDVIN003</td>\n",
       "      <td>2.025071e+13</td>\n",
       "      <td>1751725939315</td>\n",
       "      <td>28082.6</td>\n",
       "      <td>24.0</td>\n",
       "      <td>1.0</td>\n",
       "      <td>0.0</td>\n",
       "    </tr>\n",
       "    <tr>\n",
       "      <th>1</th>\n",
       "      <td>MASKEDVIN003</td>\n",
       "      <td>2.025071e+13</td>\n",
       "      <td>1751994040672</td>\n",
       "      <td>28605.6</td>\n",
       "      <td>100.0</td>\n",
       "      <td>1.0</td>\n",
       "      <td>28.0</td>\n",
       "    </tr>\n",
       "    <tr>\n",
       "      <th>2</th>\n",
       "      <td>MASKEDVIN003</td>\n",
       "      <td>2.025071e+13</td>\n",
       "      <td>1751825658365</td>\n",
       "      <td>28443.6</td>\n",
       "      <td>37.0</td>\n",
       "      <td>0.0</td>\n",
       "      <td>0.0</td>\n",
       "    </tr>\n",
       "    <tr>\n",
       "      <th>3</th>\n",
       "      <td>MASKEDVIN003</td>\n",
       "      <td>2.025071e+13</td>\n",
       "      <td>1752007396151</td>\n",
       "      <td>28902.2</td>\n",
       "      <td>72.0</td>\n",
       "      <td>1.0</td>\n",
       "      <td>55.0</td>\n",
       "    </tr>\n",
       "    <tr>\n",
       "      <th>4</th>\n",
       "      <td>MASKEDVIN003</td>\n",
       "      <td>2.025071e+13</td>\n",
       "      <td>1751747010652</td>\n",
       "      <td>28275.5</td>\n",
       "      <td>63.0</td>\n",
       "      <td>1.0</td>\n",
       "      <td>0.0</td>\n",
       "    </tr>\n",
       "  </tbody>\n",
       "</table>\n",
       "</div>"
      ],
      "text/plain": [
       "            VIN  statusTimestamp  pollerFetchTime  odometer  gasLevel  \\\n",
       "0  MASKEDVIN003     2.025071e+13    1751725939315   28082.6      24.0   \n",
       "1  MASKEDVIN003     2.025071e+13    1751994040672   28605.6     100.0   \n",
       "2  MASKEDVIN003     2.025071e+13    1751825658365   28443.6      37.0   \n",
       "3  MASKEDVIN003     2.025071e+13    1752007396151   28902.2      72.0   \n",
       "4  MASKEDVIN003     2.025071e+13    1751747010652   28275.5      63.0   \n",
       "\n",
       "   ignStatus  speed  \n",
       "0        1.0    0.0  \n",
       "1        1.0   28.0  \n",
       "2        0.0    0.0  \n",
       "3        1.0   55.0  \n",
       "4        1.0    0.0  "
      ]
     },
     "execution_count": 261,
     "metadata": {},
     "output_type": "execute_result"
    }
   ],
   "source": [
    "import pandas as pd\n",
    "\n",
    "# Read the saved file\n",
    "df = pd.read_csv('flattened_vehicle_data.csv')\n",
    "\n",
    "# Display the first few rows\n",
    "df.head()"
   ]
  },
  {
   "cell_type": "code",
   "execution_count": 189,
   "id": "0c832f18-8652-4720-9293-537792938679",
   "metadata": {},
   "outputs": [
    {
     "data": {
      "text/plain": [
       "781942"
      ]
     },
     "execution_count": 189,
     "metadata": {},
     "output_type": "execute_result"
    }
   ],
   "source": [
    "len(df)"
   ]
  },
  {
   "cell_type": "code",
   "execution_count": 191,
   "id": "014f4c3b-f725-4779-b148-aed89d85d092",
   "metadata": {},
   "outputs": [],
   "source": [
    "# converted the data into tabluar format "
   ]
  },
  {
   "cell_type": "code",
   "execution_count": 195,
   "id": "d29b3561-7b5d-42b5-ad51-53ae8eea40e7",
   "metadata": {},
   "outputs": [
    {
     "data": {
      "text/html": [
       "<div>\n",
       "<style scoped>\n",
       "    .dataframe tbody tr th:only-of-type {\n",
       "        vertical-align: middle;\n",
       "    }\n",
       "\n",
       "    .dataframe tbody tr th {\n",
       "        vertical-align: top;\n",
       "    }\n",
       "\n",
       "    .dataframe thead th {\n",
       "        text-align: right;\n",
       "    }\n",
       "</style>\n",
       "<table border=\"1\" class=\"dataframe\">\n",
       "  <thead>\n",
       "    <tr style=\"text-align: right;\">\n",
       "      <th></th>\n",
       "      <th>VIN</th>\n",
       "      <th>statusTimestamp</th>\n",
       "      <th>pollerFetchTime</th>\n",
       "      <th>odometer</th>\n",
       "      <th>gasLevel</th>\n",
       "      <th>ignStatus</th>\n",
       "      <th>speed</th>\n",
       "    </tr>\n",
       "  </thead>\n",
       "  <tbody>\n",
       "    <tr>\n",
       "      <th>781937</th>\n",
       "      <td>MASKEDVIN009</td>\n",
       "      <td>2.025071e+13</td>\n",
       "      <td>1751755006405</td>\n",
       "      <td>13316.1</td>\n",
       "      <td>33.0</td>\n",
       "      <td>1.0</td>\n",
       "      <td>0.0</td>\n",
       "    </tr>\n",
       "    <tr>\n",
       "      <th>781938</th>\n",
       "      <td>MASKEDVIN009</td>\n",
       "      <td>2.025070e+13</td>\n",
       "      <td>1751482987547</td>\n",
       "      <td>12202.5</td>\n",
       "      <td>2.0</td>\n",
       "      <td>1.0</td>\n",
       "      <td>32.0</td>\n",
       "    </tr>\n",
       "    <tr>\n",
       "      <th>781939</th>\n",
       "      <td>MASKEDVIN009</td>\n",
       "      <td>2.025070e+13</td>\n",
       "      <td>1751419214435</td>\n",
       "      <td>12008.3</td>\n",
       "      <td>47.0</td>\n",
       "      <td>1.0</td>\n",
       "      <td>0.0</td>\n",
       "    </tr>\n",
       "    <tr>\n",
       "      <th>781940</th>\n",
       "      <td>MASKEDVIN009</td>\n",
       "      <td>2.025070e+13</td>\n",
       "      <td>1751566953302</td>\n",
       "      <td>12507.9</td>\n",
       "      <td>5.0</td>\n",
       "      <td>1.0</td>\n",
       "      <td>51.0</td>\n",
       "    </tr>\n",
       "    <tr>\n",
       "      <th>781941</th>\n",
       "      <td>MASKEDVIN009</td>\n",
       "      <td>2.025071e+13</td>\n",
       "      <td>1752344640711</td>\n",
       "      <td>15634.8</td>\n",
       "      <td>47.0</td>\n",
       "      <td>1.0</td>\n",
       "      <td>35.0</td>\n",
       "    </tr>\n",
       "  </tbody>\n",
       "</table>\n",
       "</div>"
      ],
      "text/plain": [
       "                 VIN  statusTimestamp  pollerFetchTime  odometer  gasLevel  \\\n",
       "781937  MASKEDVIN009     2.025071e+13    1751755006405   13316.1      33.0   \n",
       "781938  MASKEDVIN009     2.025070e+13    1751482987547   12202.5       2.0   \n",
       "781939  MASKEDVIN009     2.025070e+13    1751419214435   12008.3      47.0   \n",
       "781940  MASKEDVIN009     2.025070e+13    1751566953302   12507.9       5.0   \n",
       "781941  MASKEDVIN009     2.025071e+13    1752344640711   15634.8      47.0   \n",
       "\n",
       "        ignStatus  speed  \n",
       "781937        1.0    0.0  \n",
       "781938        1.0   32.0  \n",
       "781939        1.0    0.0  \n",
       "781940        1.0   51.0  \n",
       "781941        1.0   35.0  "
      ]
     },
     "execution_count": 195,
     "metadata": {},
     "output_type": "execute_result"
    }
   ],
   "source": [
    "df.tail()"
   ]
  },
  {
   "cell_type": "code",
   "execution_count": 197,
   "id": "006a135b-6720-49a1-a819-fa5b407650ea",
   "metadata": {},
   "outputs": [
    {
     "name": "stdout",
     "output_type": "stream",
     "text": [
      "<class 'pandas.core.frame.DataFrame'>\n"
     ]
    }
   ],
   "source": [
    "print(type(df))"
   ]
  },
  {
   "cell_type": "code",
   "execution_count": 199,
   "id": "471f11cf-158f-45df-990e-f89b46ac5b93",
   "metadata": {},
   "outputs": [],
   "source": [
    "## Task 1"
   ]
  },
  {
   "cell_type": "code",
   "execution_count": 255,
   "id": "a5f8e1f7-c150-4065-80bb-d3171a9898e1",
   "metadata": {},
   "outputs": [
    {
     "ename": "IntCastingNaNError",
     "evalue": "Cannot convert non-finite values (NA or inf) to integer",
     "output_type": "error",
     "traceback": [
      "\u001b[1;31m---------------------------------------------------------------------------\u001b[0m",
      "\u001b[1;31mIntCastingNaNError\u001b[0m                        Traceback (most recent call last)",
      "Cell \u001b[1;32mIn[255], line 1\u001b[0m\n\u001b[1;32m----> 1\u001b[0m df[\u001b[38;5;124m'\u001b[39m\u001b[38;5;124mstatusTimestamp\u001b[39m\u001b[38;5;124m'\u001b[39m] \u001b[38;5;241m=\u001b[39m \u001b[43mdf\u001b[49m\u001b[43m[\u001b[49m\u001b[38;5;124;43m'\u001b[39;49m\u001b[38;5;124;43mstatusTimestamp\u001b[39;49m\u001b[38;5;124;43m'\u001b[39;49m\u001b[43m]\u001b[49m\u001b[38;5;241;43m.\u001b[39;49m\u001b[43mastype\u001b[49m\u001b[43m(\u001b[49m\u001b[38;5;124;43m'\u001b[39;49m\u001b[38;5;124;43mint64\u001b[39;49m\u001b[38;5;124;43m'\u001b[39;49m\u001b[43m)\u001b[49m\n\u001b[0;32m      3\u001b[0m \u001b[38;5;66;03m# 2. Optional: Convert to string (if you want to view it as a raw number)\u001b[39;00m\n\u001b[0;32m      4\u001b[0m df[\u001b[38;5;124m'\u001b[39m\u001b[38;5;124mstatusTimestamp_str\u001b[39m\u001b[38;5;124m'\u001b[39m] \u001b[38;5;241m=\u001b[39m df[\u001b[38;5;124m'\u001b[39m\u001b[38;5;124mstatusTimestamp\u001b[39m\u001b[38;5;124m'\u001b[39m]\u001b[38;5;241m.\u001b[39mastype(\u001b[38;5;28mstr\u001b[39m)\n",
      "File \u001b[1;32m~\\AppData\\Roaming\\Python\\Python310\\site-packages\\pandas\\core\\generic.py:6324\u001b[0m, in \u001b[0;36mNDFrame.astype\u001b[1;34m(self, dtype, copy, errors)\u001b[0m\n\u001b[0;32m   6317\u001b[0m     results \u001b[38;5;241m=\u001b[39m [\n\u001b[0;32m   6318\u001b[0m         \u001b[38;5;28mself\u001b[39m\u001b[38;5;241m.\u001b[39miloc[:, i]\u001b[38;5;241m.\u001b[39mastype(dtype, copy\u001b[38;5;241m=\u001b[39mcopy)\n\u001b[0;32m   6319\u001b[0m         \u001b[38;5;28;01mfor\u001b[39;00m i \u001b[38;5;129;01min\u001b[39;00m \u001b[38;5;28mrange\u001b[39m(\u001b[38;5;28mlen\u001b[39m(\u001b[38;5;28mself\u001b[39m\u001b[38;5;241m.\u001b[39mcolumns))\n\u001b[0;32m   6320\u001b[0m     ]\n\u001b[0;32m   6322\u001b[0m \u001b[38;5;28;01melse\u001b[39;00m:\n\u001b[0;32m   6323\u001b[0m     \u001b[38;5;66;03m# else, only a single dtype is given\u001b[39;00m\n\u001b[1;32m-> 6324\u001b[0m     new_data \u001b[38;5;241m=\u001b[39m \u001b[38;5;28;43mself\u001b[39;49m\u001b[38;5;241;43m.\u001b[39;49m\u001b[43m_mgr\u001b[49m\u001b[38;5;241;43m.\u001b[39;49m\u001b[43mastype\u001b[49m\u001b[43m(\u001b[49m\u001b[43mdtype\u001b[49m\u001b[38;5;241;43m=\u001b[39;49m\u001b[43mdtype\u001b[49m\u001b[43m,\u001b[49m\u001b[43m \u001b[49m\u001b[43mcopy\u001b[49m\u001b[38;5;241;43m=\u001b[39;49m\u001b[43mcopy\u001b[49m\u001b[43m,\u001b[49m\u001b[43m \u001b[49m\u001b[43merrors\u001b[49m\u001b[38;5;241;43m=\u001b[39;49m\u001b[43merrors\u001b[49m\u001b[43m)\u001b[49m\n\u001b[0;32m   6325\u001b[0m     \u001b[38;5;28;01mreturn\u001b[39;00m \u001b[38;5;28mself\u001b[39m\u001b[38;5;241m.\u001b[39m_constructor(new_data)\u001b[38;5;241m.\u001b[39m__finalize__(\u001b[38;5;28mself\u001b[39m, method\u001b[38;5;241m=\u001b[39m\u001b[38;5;124m\"\u001b[39m\u001b[38;5;124mastype\u001b[39m\u001b[38;5;124m\"\u001b[39m)\n\u001b[0;32m   6327\u001b[0m \u001b[38;5;66;03m# GH 33113: handle empty frame or series\u001b[39;00m\n",
      "File \u001b[1;32m~\\AppData\\Roaming\\Python\\Python310\\site-packages\\pandas\\core\\internals\\managers.py:451\u001b[0m, in \u001b[0;36mBaseBlockManager.astype\u001b[1;34m(self, dtype, copy, errors)\u001b[0m\n\u001b[0;32m    448\u001b[0m \u001b[38;5;28;01melif\u001b[39;00m using_copy_on_write():\n\u001b[0;32m    449\u001b[0m     copy \u001b[38;5;241m=\u001b[39m \u001b[38;5;28;01mFalse\u001b[39;00m\n\u001b[1;32m--> 451\u001b[0m \u001b[38;5;28;01mreturn\u001b[39;00m \u001b[38;5;28;43mself\u001b[39;49m\u001b[38;5;241;43m.\u001b[39;49m\u001b[43mapply\u001b[49m\u001b[43m(\u001b[49m\n\u001b[0;32m    452\u001b[0m \u001b[43m    \u001b[49m\u001b[38;5;124;43m\"\u001b[39;49m\u001b[38;5;124;43mastype\u001b[39;49m\u001b[38;5;124;43m\"\u001b[39;49m\u001b[43m,\u001b[49m\n\u001b[0;32m    453\u001b[0m \u001b[43m    \u001b[49m\u001b[43mdtype\u001b[49m\u001b[38;5;241;43m=\u001b[39;49m\u001b[43mdtype\u001b[49m\u001b[43m,\u001b[49m\n\u001b[0;32m    454\u001b[0m \u001b[43m    \u001b[49m\u001b[43mcopy\u001b[49m\u001b[38;5;241;43m=\u001b[39;49m\u001b[43mcopy\u001b[49m\u001b[43m,\u001b[49m\n\u001b[0;32m    455\u001b[0m \u001b[43m    \u001b[49m\u001b[43merrors\u001b[49m\u001b[38;5;241;43m=\u001b[39;49m\u001b[43merrors\u001b[49m\u001b[43m,\u001b[49m\n\u001b[0;32m    456\u001b[0m \u001b[43m    \u001b[49m\u001b[43musing_cow\u001b[49m\u001b[38;5;241;43m=\u001b[39;49m\u001b[43musing_copy_on_write\u001b[49m\u001b[43m(\u001b[49m\u001b[43m)\u001b[49m\u001b[43m,\u001b[49m\n\u001b[0;32m    457\u001b[0m \u001b[43m\u001b[49m\u001b[43m)\u001b[49m\n",
      "File \u001b[1;32m~\\AppData\\Roaming\\Python\\Python310\\site-packages\\pandas\\core\\internals\\managers.py:352\u001b[0m, in \u001b[0;36mBaseBlockManager.apply\u001b[1;34m(self, f, align_keys, **kwargs)\u001b[0m\n\u001b[0;32m    350\u001b[0m         applied \u001b[38;5;241m=\u001b[39m b\u001b[38;5;241m.\u001b[39mapply(f, \u001b[38;5;241m*\u001b[39m\u001b[38;5;241m*\u001b[39mkwargs)\n\u001b[0;32m    351\u001b[0m     \u001b[38;5;28;01melse\u001b[39;00m:\n\u001b[1;32m--> 352\u001b[0m         applied \u001b[38;5;241m=\u001b[39m \u001b[38;5;28mgetattr\u001b[39m(b, f)(\u001b[38;5;241m*\u001b[39m\u001b[38;5;241m*\u001b[39mkwargs)\n\u001b[0;32m    353\u001b[0m     result_blocks \u001b[38;5;241m=\u001b[39m extend_blocks(applied, result_blocks)\n\u001b[0;32m    355\u001b[0m out \u001b[38;5;241m=\u001b[39m \u001b[38;5;28mtype\u001b[39m(\u001b[38;5;28mself\u001b[39m)\u001b[38;5;241m.\u001b[39mfrom_blocks(result_blocks, \u001b[38;5;28mself\u001b[39m\u001b[38;5;241m.\u001b[39maxes)\n",
      "File \u001b[1;32m~\\AppData\\Roaming\\Python\\Python310\\site-packages\\pandas\\core\\internals\\blocks.py:511\u001b[0m, in \u001b[0;36mBlock.astype\u001b[1;34m(self, dtype, copy, errors, using_cow)\u001b[0m\n\u001b[0;32m    491\u001b[0m \u001b[38;5;250m\u001b[39m\u001b[38;5;124;03m\"\"\"\u001b[39;00m\n\u001b[0;32m    492\u001b[0m \u001b[38;5;124;03mCoerce to the new dtype.\u001b[39;00m\n\u001b[0;32m    493\u001b[0m \n\u001b[1;32m   (...)\u001b[0m\n\u001b[0;32m    507\u001b[0m \u001b[38;5;124;03mBlock\u001b[39;00m\n\u001b[0;32m    508\u001b[0m \u001b[38;5;124;03m\"\"\"\u001b[39;00m\n\u001b[0;32m    509\u001b[0m values \u001b[38;5;241m=\u001b[39m \u001b[38;5;28mself\u001b[39m\u001b[38;5;241m.\u001b[39mvalues\n\u001b[1;32m--> 511\u001b[0m new_values \u001b[38;5;241m=\u001b[39m \u001b[43mastype_array_safe\u001b[49m\u001b[43m(\u001b[49m\u001b[43mvalues\u001b[49m\u001b[43m,\u001b[49m\u001b[43m \u001b[49m\u001b[43mdtype\u001b[49m\u001b[43m,\u001b[49m\u001b[43m \u001b[49m\u001b[43mcopy\u001b[49m\u001b[38;5;241;43m=\u001b[39;49m\u001b[43mcopy\u001b[49m\u001b[43m,\u001b[49m\u001b[43m \u001b[49m\u001b[43merrors\u001b[49m\u001b[38;5;241;43m=\u001b[39;49m\u001b[43merrors\u001b[49m\u001b[43m)\u001b[49m\n\u001b[0;32m    513\u001b[0m new_values \u001b[38;5;241m=\u001b[39m maybe_coerce_values(new_values)\n\u001b[0;32m    515\u001b[0m refs \u001b[38;5;241m=\u001b[39m \u001b[38;5;28;01mNone\u001b[39;00m\n",
      "File \u001b[1;32m~\\AppData\\Roaming\\Python\\Python310\\site-packages\\pandas\\core\\dtypes\\astype.py:242\u001b[0m, in \u001b[0;36mastype_array_safe\u001b[1;34m(values, dtype, copy, errors)\u001b[0m\n\u001b[0;32m    239\u001b[0m     dtype \u001b[38;5;241m=\u001b[39m dtype\u001b[38;5;241m.\u001b[39mnumpy_dtype\n\u001b[0;32m    241\u001b[0m \u001b[38;5;28;01mtry\u001b[39;00m:\n\u001b[1;32m--> 242\u001b[0m     new_values \u001b[38;5;241m=\u001b[39m \u001b[43mastype_array\u001b[49m\u001b[43m(\u001b[49m\u001b[43mvalues\u001b[49m\u001b[43m,\u001b[49m\u001b[43m \u001b[49m\u001b[43mdtype\u001b[49m\u001b[43m,\u001b[49m\u001b[43m \u001b[49m\u001b[43mcopy\u001b[49m\u001b[38;5;241;43m=\u001b[39;49m\u001b[43mcopy\u001b[49m\u001b[43m)\u001b[49m\n\u001b[0;32m    243\u001b[0m \u001b[38;5;28;01mexcept\u001b[39;00m (\u001b[38;5;167;01mValueError\u001b[39;00m, \u001b[38;5;167;01mTypeError\u001b[39;00m):\n\u001b[0;32m    244\u001b[0m     \u001b[38;5;66;03m# e.g. _astype_nansafe can fail on object-dtype of strings\u001b[39;00m\n\u001b[0;32m    245\u001b[0m     \u001b[38;5;66;03m#  trying to convert to float\u001b[39;00m\n\u001b[0;32m    246\u001b[0m     \u001b[38;5;28;01mif\u001b[39;00m errors \u001b[38;5;241m==\u001b[39m \u001b[38;5;124m\"\u001b[39m\u001b[38;5;124mignore\u001b[39m\u001b[38;5;124m\"\u001b[39m:\n",
      "File \u001b[1;32m~\\AppData\\Roaming\\Python\\Python310\\site-packages\\pandas\\core\\dtypes\\astype.py:187\u001b[0m, in \u001b[0;36mastype_array\u001b[1;34m(values, dtype, copy)\u001b[0m\n\u001b[0;32m    184\u001b[0m     values \u001b[38;5;241m=\u001b[39m values\u001b[38;5;241m.\u001b[39mastype(dtype, copy\u001b[38;5;241m=\u001b[39mcopy)\n\u001b[0;32m    186\u001b[0m \u001b[38;5;28;01melse\u001b[39;00m:\n\u001b[1;32m--> 187\u001b[0m     values \u001b[38;5;241m=\u001b[39m \u001b[43m_astype_nansafe\u001b[49m\u001b[43m(\u001b[49m\u001b[43mvalues\u001b[49m\u001b[43m,\u001b[49m\u001b[43m \u001b[49m\u001b[43mdtype\u001b[49m\u001b[43m,\u001b[49m\u001b[43m \u001b[49m\u001b[43mcopy\u001b[49m\u001b[38;5;241;43m=\u001b[39;49m\u001b[43mcopy\u001b[49m\u001b[43m)\u001b[49m\n\u001b[0;32m    189\u001b[0m \u001b[38;5;66;03m# in pandas we don't store numpy str dtypes, so convert to object\u001b[39;00m\n\u001b[0;32m    190\u001b[0m \u001b[38;5;28;01mif\u001b[39;00m \u001b[38;5;28misinstance\u001b[39m(dtype, np\u001b[38;5;241m.\u001b[39mdtype) \u001b[38;5;129;01mand\u001b[39;00m \u001b[38;5;28missubclass\u001b[39m(values\u001b[38;5;241m.\u001b[39mdtype\u001b[38;5;241m.\u001b[39mtype, \u001b[38;5;28mstr\u001b[39m):\n",
      "File \u001b[1;32m~\\AppData\\Roaming\\Python\\Python310\\site-packages\\pandas\\core\\dtypes\\astype.py:105\u001b[0m, in \u001b[0;36m_astype_nansafe\u001b[1;34m(arr, dtype, copy, skipna)\u001b[0m\n\u001b[0;32m    100\u001b[0m     \u001b[38;5;28;01mreturn\u001b[39;00m lib\u001b[38;5;241m.\u001b[39mensure_string_array(\n\u001b[0;32m    101\u001b[0m         arr, skipna\u001b[38;5;241m=\u001b[39mskipna, convert_na_value\u001b[38;5;241m=\u001b[39m\u001b[38;5;28;01mFalse\u001b[39;00m\n\u001b[0;32m    102\u001b[0m     )\u001b[38;5;241m.\u001b[39mreshape(shape)\n\u001b[0;32m    104\u001b[0m \u001b[38;5;28;01melif\u001b[39;00m np\u001b[38;5;241m.\u001b[39missubdtype(arr\u001b[38;5;241m.\u001b[39mdtype, np\u001b[38;5;241m.\u001b[39mfloating) \u001b[38;5;129;01mand\u001b[39;00m is_integer_dtype(dtype):\n\u001b[1;32m--> 105\u001b[0m     \u001b[38;5;28;01mreturn\u001b[39;00m \u001b[43m_astype_float_to_int_nansafe\u001b[49m\u001b[43m(\u001b[49m\u001b[43marr\u001b[49m\u001b[43m,\u001b[49m\u001b[43m \u001b[49m\u001b[43mdtype\u001b[49m\u001b[43m,\u001b[49m\u001b[43m \u001b[49m\u001b[43mcopy\u001b[49m\u001b[43m)\u001b[49m\n\u001b[0;32m    107\u001b[0m \u001b[38;5;28;01melif\u001b[39;00m is_object_dtype(arr\u001b[38;5;241m.\u001b[39mdtype):\n\u001b[0;32m    108\u001b[0m     \u001b[38;5;66;03m# if we have a datetime/timedelta array of objects\u001b[39;00m\n\u001b[0;32m    109\u001b[0m     \u001b[38;5;66;03m# then coerce to datetime64[ns] and use DatetimeArray.astype\u001b[39;00m\n\u001b[0;32m    111\u001b[0m     \u001b[38;5;28;01mif\u001b[39;00m is_datetime64_dtype(dtype):\n",
      "File \u001b[1;32m~\\AppData\\Roaming\\Python\\Python310\\site-packages\\pandas\\core\\dtypes\\astype.py:150\u001b[0m, in \u001b[0;36m_astype_float_to_int_nansafe\u001b[1;34m(values, dtype, copy)\u001b[0m\n\u001b[0;32m    146\u001b[0m \u001b[38;5;250m\u001b[39m\u001b[38;5;124;03m\"\"\"\u001b[39;00m\n\u001b[0;32m    147\u001b[0m \u001b[38;5;124;03mastype with a check preventing converting NaN to an meaningless integer value.\u001b[39;00m\n\u001b[0;32m    148\u001b[0m \u001b[38;5;124;03m\"\"\"\u001b[39;00m\n\u001b[0;32m    149\u001b[0m \u001b[38;5;28;01mif\u001b[39;00m \u001b[38;5;129;01mnot\u001b[39;00m np\u001b[38;5;241m.\u001b[39misfinite(values)\u001b[38;5;241m.\u001b[39mall():\n\u001b[1;32m--> 150\u001b[0m     \u001b[38;5;28;01mraise\u001b[39;00m IntCastingNaNError(\n\u001b[0;32m    151\u001b[0m         \u001b[38;5;124m\"\u001b[39m\u001b[38;5;124mCannot convert non-finite values (NA or inf) to integer\u001b[39m\u001b[38;5;124m\"\u001b[39m\n\u001b[0;32m    152\u001b[0m     )\n\u001b[0;32m    153\u001b[0m \u001b[38;5;28;01mif\u001b[39;00m dtype\u001b[38;5;241m.\u001b[39mkind \u001b[38;5;241m==\u001b[39m \u001b[38;5;124m\"\u001b[39m\u001b[38;5;124mu\u001b[39m\u001b[38;5;124m\"\u001b[39m:\n\u001b[0;32m    154\u001b[0m     \u001b[38;5;66;03m# GH#45151\u001b[39;00m\n\u001b[0;32m    155\u001b[0m     \u001b[38;5;28;01mif\u001b[39;00m \u001b[38;5;129;01mnot\u001b[39;00m (values \u001b[38;5;241m>\u001b[39m\u001b[38;5;241m=\u001b[39m \u001b[38;5;241m0\u001b[39m)\u001b[38;5;241m.\u001b[39mall():\n",
      "\u001b[1;31mIntCastingNaNError\u001b[0m: Cannot convert non-finite values (NA or inf) to integer"
     ]
    }
   ],
   "source": [
    "df['statusTimestamp'] = df['statusTimestamp'].astype('int64')\n",
    "\n",
    "# 2. Optional: Convert to string (if you want to view it as a raw number)\n",
    "df['statusTimestamp_str'] = df['statusTimestamp'].astype(str)"
   ]
  },
  {
   "cell_type": "code",
   "execution_count": null,
   "id": "3f0b2edd-7e83-457f-9f9e-a6510bab51d9",
   "metadata": {},
   "outputs": [],
   "source": []
  },
  {
   "cell_type": "code",
   "execution_count": 249,
   "id": "a4039b0b-8abc-43e8-8ab1-822c4146d088",
   "metadata": {},
   "outputs": [],
   "source": [
    "df['statusTimestamp']= pd.to_datetime(\n",
    "    df['statusTimestamp'],\n",
    "    format=\"%Y%m%d%H%M%S.%f\",\n",
    "    errors='coerce'\n",
    ")"
   ]
  },
  {
   "cell_type": "code",
   "execution_count": 251,
   "id": "d6df08ea-1bfa-418f-9a5f-860ec3580e72",
   "metadata": {},
   "outputs": [
    {
     "name": "stdout",
     "output_type": "stream",
     "text": [
      "            VIN statusTimestamp  pollerFetchTime  odometer  gasLevel  \\\n",
      "0  MASKEDVIN003             NaT    1751725939315   28082.6      24.0   \n",
      "1  MASKEDVIN003             NaT    1751994040672   28605.6     100.0   \n",
      "2  MASKEDVIN003             NaT    1751825658365   28443.6      37.0   \n",
      "3  MASKEDVIN003             NaT    1752007396151   28902.2      72.0   \n",
      "4  MASKEDVIN003             NaT    1751747010652   28275.5      63.0   \n",
      "\n",
      "   ignStatus  speed  \n",
      "0        1.0    0.0  \n",
      "1        1.0   28.0  \n",
      "2        0.0    0.0  \n",
      "3        1.0   55.0  \n",
      "4        1.0    0.0  \n"
     ]
    }
   ],
   "source": [
    "print(df.head())"
   ]
  },
  {
   "cell_type": "code",
   "execution_count": 205,
   "id": "e34d9291-a371-4b27-85bc-45849e1e28f0",
   "metadata": {},
   "outputs": [],
   "source": [
    "df['pollerFetchTime'] = pd.to_datetime(df['pollerFetchTime'], unit='ns', errors='coerce')"
   ]
  },
  {
   "cell_type": "code",
   "execution_count": 207,
   "id": "e570b3c7-918d-4edf-a879-896839bf031a",
   "metadata": {},
   "outputs": [
    {
     "name": "stdout",
     "output_type": "stream",
     "text": [
      "            VIN               statusTimestamp               pollerFetchTime  \\\n",
      "0  MASKEDVIN003 1970-01-01 05:37:30.705143210 1970-01-01 00:29:11.725939315   \n",
      "1  MASKEDVIN003 1970-01-01 05:37:30.708170037 1970-01-01 00:29:11.994040672   \n",
      "2  MASKEDVIN003 1970-01-01 05:37:30.706181414 1970-01-01 00:29:11.825658365   \n",
      "3  MASKEDVIN003 1970-01-01 05:37:30.708204314 1970-01-01 00:29:12.007396151   \n",
      "4  MASKEDVIN003 1970-01-01 05:37:30.705202326 1970-01-01 00:29:11.747010652   \n",
      "\n",
      "   odometer  gasLevel  ignStatus  speed  \n",
      "0   28082.6      24.0        1.0    0.0  \n",
      "1   28605.6     100.0        1.0   28.0  \n",
      "2   28443.6      37.0        0.0    0.0  \n",
      "3   28902.2      72.0        1.0   55.0  \n",
      "4   28275.5      63.0        1.0    0.0  \n"
     ]
    }
   ],
   "source": [
    "print(df.head())"
   ]
  },
  {
   "cell_type": "code",
   "execution_count": 209,
   "id": "d9e4aa9d-ff01-4172-909c-1ccf5af10f1c",
   "metadata": {},
   "outputs": [],
   "source": [
    "df.sort_values('pollerFetchTime', inplace=True)"
   ]
  },
  {
   "cell_type": "code",
   "execution_count": 211,
   "id": "efa06d94-9cae-4da7-b3e1-d58a67375a02",
   "metadata": {},
   "outputs": [],
   "source": [
    "max_status_time = pd.Timestamp.min\n",
    "mask = []\n",
    "for ts in df['statusTimestamp']:\n",
    "    if ts >= max_status_time:\n",
    "        mask.append(True)\n",
    "        max_status_time = ts\n",
    "    else:\n",
    "        mask.append(False)"
   ]
  },
  {
   "cell_type": "code",
   "execution_count": 212,
   "id": "ccbe0e34-7400-459d-9322-8f3943185211",
   "metadata": {},
   "outputs": [],
   "source": [
    "cleaned_df = df[mask].reset_index(drop=True)"
   ]
  },
  {
   "cell_type": "code",
   "execution_count": 215,
   "id": "3325c78c-417a-4f68-aa7a-2cb89dbd67f2",
   "metadata": {},
   "outputs": [
    {
     "data": {
      "text/plain": [
       "460357"
      ]
     },
     "execution_count": 215,
     "metadata": {},
     "output_type": "execute_result"
    }
   ],
   "source": [
    "len(cleaned_df)"
   ]
  },
  {
   "cell_type": "code",
   "execution_count": 217,
   "id": "b05bb662-42f1-402f-bc6d-b6e048b5dc7c",
   "metadata": {},
   "outputs": [
    {
     "name": "stdout",
     "output_type": "stream",
     "text": [
      "                 VIN               statusTimestamp  \\\n",
      "0       MASKEDVIN002 1970-01-01 05:37:30.701140112   \n",
      "1       MASKEDVIN002 1970-01-01 05:37:30.701140112   \n",
      "2       MASKEDVIN002 1970-01-01 05:37:30.701140112   \n",
      "3       MASKEDVIN002 1970-01-01 05:37:30.701140402   \n",
      "4       MASKEDVIN012 1970-01-01 05:37:30.701141440   \n",
      "...              ...                           ...   \n",
      "460352  MASKEDVIN012 1970-01-01 05:37:30.716030403   \n",
      "460353  MASKEDVIN012 1970-01-01 05:37:30.716030412   \n",
      "460354  MASKEDVIN012 1970-01-01 05:37:30.716030423   \n",
      "460355  MASKEDVIN012 1970-01-01 05:37:30.716030429   \n",
      "460356  MASKEDVIN012 1970-01-01 05:37:30.716030432   \n",
      "\n",
      "                     pollerFetchTime  odometer  gasLevel  ignStatus  speed  \n",
      "0      1970-01-01 00:29:11.378474562   14634.9      19.0        0.0    0.0  \n",
      "1      1970-01-01 00:29:11.378481575   14634.9      19.0        0.0    0.0  \n",
      "2      1970-01-01 00:29:11.378643552   14634.9      19.0        0.0    0.0  \n",
      "3      1970-01-01 00:29:11.378644554   14634.9      19.0        0.0    0.0  \n",
      "4      1970-01-01 00:29:11.379281772   19939.1      59.0        0.0    0.0  \n",
      "...                              ...       ...       ...        ...    ...  \n",
      "460352 1970-01-01 00:29:12.635046774   24656.5      10.0        0.0    0.0  \n",
      "460353 1970-01-01 00:29:12.635053802   24656.5      10.0        0.0    0.0  \n",
      "460354 1970-01-01 00:29:12.635065785   24656.5      10.0        0.0    0.0  \n",
      "460355 1970-01-01 00:29:12.635072782   24656.5      10.0        0.0    0.0  \n",
      "460356 1970-01-01 00:29:12.635073796   24656.5      10.0        0.0    0.0  \n",
      "\n",
      "[460357 rows x 7 columns]\n"
     ]
    }
   ],
   "source": [
    "print(cleaned_df)"
   ]
  },
  {
   "cell_type": "code",
   "execution_count": null,
   "id": "863660ad-2458-40b4-a3a9-0b1606d21b92",
   "metadata": {},
   "outputs": [],
   "source": [
    "## Task 2"
   ]
  },
  {
   "cell_type": "code",
   "execution_count": 179,
   "id": "8f17df9f-1f25-4ed7-8acf-456e76886168",
   "metadata": {},
   "outputs": [],
   "source": [
    "cleaned_df.sort_values(by=['statusTimestamp', 'pollerFetchTime'], inplace=True)"
   ]
  },
  {
   "cell_type": "code",
   "execution_count": 219,
   "id": "673d68c2-f376-414d-9330-006c4c96cc49",
   "metadata": {},
   "outputs": [],
   "source": [
    "cleaned_df = cleaned_df.drop_duplicates(subset=['VIN', 'statusTimestamp'], keep='first')"
   ]
  },
  {
   "cell_type": "code",
   "execution_count": 221,
   "id": "4eb4a990-f282-4b69-a0d5-14da3e1a623e",
   "metadata": {},
   "outputs": [],
   "source": [
    "cleaned_df.reset_index(drop=True, inplace=True)"
   ]
  },
  {
   "cell_type": "code",
   "execution_count": 223,
   "id": "03a95b53-ce95-4612-a402-947b5650af28",
   "metadata": {},
   "outputs": [
    {
     "name": "stdout",
     "output_type": "stream",
     "text": [
      "                 VIN               statusTimestamp  \\\n",
      "0       MASKEDVIN002 1970-01-01 05:37:30.701140112   \n",
      "1       MASKEDVIN002 1970-01-01 05:37:30.701140402   \n",
      "2       MASKEDVIN012 1970-01-01 05:37:30.701141440   \n",
      "3       MASKEDVIN012 1970-01-01 05:37:30.701141730   \n",
      "4       MASKEDVIN002 1970-01-01 05:37:30.701142617   \n",
      "...              ...                           ...   \n",
      "368577  MASKEDVIN012 1970-01-01 05:37:30.716030403   \n",
      "368578  MASKEDVIN012 1970-01-01 05:37:30.716030412   \n",
      "368579  MASKEDVIN012 1970-01-01 05:37:30.716030423   \n",
      "368580  MASKEDVIN012 1970-01-01 05:37:30.716030429   \n",
      "368581  MASKEDVIN012 1970-01-01 05:37:30.716030432   \n",
      "\n",
      "                     pollerFetchTime  odometer  gasLevel  ignStatus  speed  \n",
      "0      1970-01-01 00:29:11.378474562   14634.9      19.0        0.0    0.0  \n",
      "1      1970-01-01 00:29:11.378644554   14634.9      19.0        0.0    0.0  \n",
      "2      1970-01-01 00:29:11.379281772   19939.1      59.0        0.0    0.0  \n",
      "3      1970-01-01 00:29:11.379459673   19939.1      59.0        0.0    0.0  \n",
      "4      1970-01-01 00:29:11.379978860   14634.9      19.0        1.0    0.0  \n",
      "...                              ...       ...       ...        ...    ...  \n",
      "368577 1970-01-01 00:29:12.635046774   24656.5      10.0        0.0    0.0  \n",
      "368578 1970-01-01 00:29:12.635053802   24656.5      10.0        0.0    0.0  \n",
      "368579 1970-01-01 00:29:12.635065785   24656.5      10.0        0.0    0.0  \n",
      "368580 1970-01-01 00:29:12.635072782   24656.5      10.0        0.0    0.0  \n",
      "368581 1970-01-01 00:29:12.635073796   24656.5      10.0        0.0    0.0  \n",
      "\n",
      "[368582 rows x 7 columns]\n"
     ]
    }
   ],
   "source": [
    "print(cleaned_df)"
   ]
  },
  {
   "cell_type": "code",
   "execution_count": 225,
   "id": "bd6fdb3d-41f2-443e-9333-6d473c5d061f",
   "metadata": {},
   "outputs": [
    {
     "data": {
      "text/plain": [
       "368582"
      ]
     },
     "execution_count": 225,
     "metadata": {},
     "output_type": "execute_result"
    }
   ],
   "source": [
    "len(cleaned_df)"
   ]
  },
  {
   "cell_type": "code",
   "execution_count": 227,
   "id": "fe28cfca-6ffd-48d7-9004-3af87ecae3a4",
   "metadata": {},
   "outputs": [],
   "source": [
    "## task 3"
   ]
  },
  {
   "cell_type": "code",
   "execution_count": 229,
   "id": "49fe3472-56ed-4281-9dae-a792d8d3f150",
   "metadata": {},
   "outputs": [],
   "source": [
    "cleaned_df.sort_values(by=['VIN', 'statusTimestamp'], inplace=True)"
   ]
  },
  {
   "cell_type": "code",
   "execution_count": 231,
   "id": "bfcdda90-a1c7-4177-9762-6c958a9936eb",
   "metadata": {},
   "outputs": [],
   "source": [
    "cleaned_df['odometer_diff'] = df.groupby('VIN')['odometer'].diff()"
   ]
  },
  {
   "cell_type": "code",
   "execution_count": 233,
   "id": "ae3c0b5e-d30d-4389-80d6-49d0b17170db",
   "metadata": {},
   "outputs": [],
   "source": [
    "cleaned_df = cleaned_df[(cleaned_df['odometer_diff'] >= 0)]"
   ]
  },
  {
   "cell_type": "code",
   "execution_count": 235,
   "id": "5e9cdf57-dd45-4d72-96f3-8341b5fa5c03",
   "metadata": {},
   "outputs": [],
   "source": [
    "cleaned_df.drop(columns=['odometer_diff'], inplace=True)"
   ]
  },
  {
   "cell_type": "code",
   "execution_count": 237,
   "id": "0894b596-902b-4c74-84fc-132ff5780401",
   "metadata": {},
   "outputs": [],
   "source": [
    "cleaned_df.reset_index(drop=True, inplace=True)"
   ]
  },
  {
   "cell_type": "code",
   "execution_count": 239,
   "id": "d782af78-83ee-42bb-9afd-cff16454cc7a",
   "metadata": {},
   "outputs": [
    {
     "name": "stdout",
     "output_type": "stream",
     "text": [
      "                 VIN               statusTimestamp  \\\n",
      "0       MASKEDVIN001 1970-01-01 05:37:30.701161305   \n",
      "1       MASKEDVIN001 1970-01-01 05:37:30.701161306   \n",
      "2       MASKEDVIN001 1970-01-01 05:37:30.701161308   \n",
      "3       MASKEDVIN001 1970-01-01 05:37:30.701161428   \n",
      "4       MASKEDVIN001 1970-01-01 05:37:30.701161528   \n",
      "...              ...                           ...   \n",
      "336980  MASKEDVIN013 1970-01-01 05:37:30.715235824   \n",
      "336981  MASKEDVIN013 1970-01-01 05:37:30.715235855   \n",
      "336982  MASKEDVIN013 1970-01-01 05:37:30.715235925   \n",
      "336983  MASKEDVIN013 1970-01-01 05:37:30.715235940   \n",
      "336984  MASKEDVIN013 1970-01-01 05:37:30.715235955   \n",
      "\n",
      "                     pollerFetchTime      odometer  gasLevel  ignStatus  speed  \n",
      "0      1970-01-01 00:29:11.386387726  21669.700000      73.0        1.0    NaN  \n",
      "1      1970-01-01 00:29:11.386388837  21669.700000      73.0        1.0    NaN  \n",
      "2      1970-01-01 00:29:11.386390711  21669.700000      73.0        1.0    NaN  \n",
      "3      1970-01-01 00:29:11.386471730  21669.700000      72.0        1.0    0.0  \n",
      "4      1970-01-01 00:29:11.386531047  21669.700000      72.0        1.0    0.0  \n",
      "...                              ...           ...       ...        ...    ...  \n",
      "336980 1970-01-01 00:29:12.623911266  51541.976863      37.0        1.0   75.0  \n",
      "336981 1970-01-01 00:29:12.623939082  51542.539980      37.0        1.0   76.0  \n",
      "336982 1970-01-01 00:29:12.623970297  51543.161351      36.0        1.0   71.0  \n",
      "336983 1970-01-01 00:29:12.623986271  51543.472037      36.0        1.0   73.0  \n",
      "336984 1970-01-01 00:29:12.624002283  51543.782722      36.0        1.0   75.0  \n",
      "\n",
      "[336985 rows x 7 columns]\n"
     ]
    }
   ],
   "source": [
    "print(cleaned_df)"
   ]
  },
  {
   "cell_type": "code",
   "execution_count": 241,
   "id": "8e3ffccf-ebd4-4f31-b66c-057b1b4ca459",
   "metadata": {},
   "outputs": [
    {
     "data": {
      "text/plain": [
       "336985"
      ]
     },
     "execution_count": 241,
     "metadata": {},
     "output_type": "execute_result"
    }
   ],
   "source": [
    "len(cleaned_df)"
   ]
  },
  {
   "cell_type": "code",
   "execution_count": null,
   "id": "3bfc59be-4833-4fba-8848-8c0d821b7dff",
   "metadata": {},
   "outputs": [],
   "source": []
  }
 ],
 "metadata": {
  "kernelspec": {
   "display_name": "Python 3 (ipykernel)",
   "language": "python",
   "name": "python3"
  },
  "language_info": {
   "codemirror_mode": {
    "name": "ipython",
    "version": 3
   },
   "file_extension": ".py",
   "mimetype": "text/x-python",
   "name": "python",
   "nbconvert_exporter": "python",
   "pygments_lexer": "ipython3",
   "version": "3.10.13"
  }
 },
 "nbformat": 4,
 "nbformat_minor": 5
}
